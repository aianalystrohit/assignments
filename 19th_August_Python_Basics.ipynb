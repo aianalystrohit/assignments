{
 "cells": [
  {
   "cell_type": "code",
   "execution_count": 12,
   "id": "08fffd63-fa69-403f-96db-3c6c64412bcd",
   "metadata": {},
   "outputs": [
    {
     "name": "stdout",
     "output_type": "stream",
     "text": [
      "30 20\n"
     ]
    }
   ],
   "source": [
    "\"\"\"Declare two variables, `x` and `y`, and assign them integer values. Swap the\n",
    "values of these variables without using any temporary variable.\"\"\"\n",
    "\n",
    "x=20\n",
    "y=30\n",
    "\n",
    "x=x+y\n",
    "y=x-y\n",
    "x=x-y\n",
    "print(x,y)"
   ]
  },
  {
   "cell_type": "code",
   "execution_count": null,
   "id": "f371350a-6d5e-45cf-ad56-ed9330fe7ea1",
   "metadata": {},
   "outputs": [],
   "source": [
    "'''Create a program that calculates the area of a rectangle. Take the length and\n",
    "width as inputs from the user and store them in variables. Calculate and\n",
    "display the area.'''\n",
    "l=int(input())\n",
    "b=int(input())\n",
    "area=l*b\n",
    "print(\"area of the rectangle\",area)"
   ]
  },
  {
   "cell_type": "code",
   "execution_count": null,
   "id": "8933e982-9d0f-4f6f-a528-961b80347f2c",
   "metadata": {},
   "outputs": [],
   "source": [
    "\"\"\"Write a Python program that converts temperatures from Celsius to\n",
    "Fahrenheit. Take the temperature in Celsius as input, store it in a variable,\n",
    "convert it to Fahrenheit, and display the result.\"\"\"\n",
    "C=int(input())\n",
    "F = C*(9/5) + 32.\n",
    "print(\"C to F\",F)\n"
   ]
  },
  {
   "cell_type": "code",
   "execution_count": null,
   "id": "43766e2d-f94d-4c04-ad3a-019645998144",
   "metadata": {},
   "outputs": [],
   "source": [
    "\"\"\"Write a Python program that takes a string as input and prints the length of\n",
    "the string.\"\"\"\n",
    "m=str(input())\n",
    "\n",
    "print(len(m))"
   ]
  },
  {
   "cell_type": "code",
   "execution_count": null,
   "id": "467e00d4-5141-40e4-8c80-4331a51da325",
   "metadata": {},
   "outputs": [],
   "source": [
    "\"\"\"Create a program that takes a sentence from the user and counts the number\n",
    "of vowels (a, e, i, o, u) in the string.\"\"\" \n",
    "\n",
    "def count_vowels(sentence):\n",
    "  \n",
    "  vowels = \"aeiouAEIOU\"\n",
    "  count = 0\n",
    "  for char in sentence:\n",
    "    if char in vowels:\n",
    "      count += 1\n",
    "  return count"
   ]
  },
  {
   "cell_type": "code",
   "execution_count": null,
   "id": "8655a0db-a7b9-4392-80d6-cd7e6d6200fc",
   "metadata": {},
   "outputs": [],
   "source": [
    "\"\"\"Given a string, reverse the order of characters using string slicing and print\n",
    "the reversed string.\"\"\"\n",
    "x=str(input())\n",
    "m=x[::-1]\n",
    "print(m)"
   ]
  },
  {
   "cell_type": "code",
   "execution_count": null,
   "id": "f2b77efb-eb0b-435d-a664-f92d7b30e94b",
   "metadata": {},
   "outputs": [],
   "source": [
    "'''Create a program that takes a string as input and removes all the spaces from\n",
    "it. Print the modified string without spaces.'''\n",
    "def remove_spaces(string):\n",
    "    return string.replace(\" \", \"\")\n"
   ]
  },
  {
   "cell_type": "code",
   "execution_count": null,
   "id": "57fe45bf-9c70-48ea-8703-4bb088bd84d4",
   "metadata": {},
   "outputs": [],
   "source": [
    "\"\"\"Write a program that takes a string as input and checks if it is a palindrome\n",
    "(reads the same forwards and backwards).\"\"\"\n",
    "\n",
    "X=str(input())\n",
    "m=X[::-1]\n",
    "\n",
    "if(X==m):\n",
    "    print(\"x is palidrome\")\n",
    "else:\n",
    "    print(\"NOt a Palidrome\")"
   ]
  }
 ],
 "metadata": {
  "kernelspec": {
   "display_name": "Python 3 (ipykernel)",
   "language": "python",
   "name": "python3"
  },
  "language_info": {
   "codemirror_mode": {
    "name": "ipython",
    "version": 3
   },
   "file_extension": ".py",
   "mimetype": "text/x-python",
   "name": "python",
   "nbconvert_exporter": "python",
   "pygments_lexer": "ipython3",
   "version": "3.10.8"
  }
 },
 "nbformat": 4,
 "nbformat_minor": 5
}
